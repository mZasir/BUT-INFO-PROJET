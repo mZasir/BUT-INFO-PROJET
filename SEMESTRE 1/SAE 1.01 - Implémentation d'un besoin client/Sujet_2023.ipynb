{
 "cells": [
  {
   "cell_type": "markdown",
   "metadata": {
    "deletable": false,
    "editable": false
   },
   "source": [
    "# <center> Santa Claus needs you!</center>\n",
    "<center> SAE 1.01 / 2023 - 24 </center>\n",
    "\n"
   ]
  },
  {
   "cell_type": "markdown",
   "metadata": {
    "deletable": false,
    "editable": false
   },
   "source": [
    "**Attendus**\n",
    "\n",
    "Les attendus de cette SAE sont que vous appreniez à \n",
    "- respecter un cahier des charges ;\n",
    "- écrire un code de qualité : efficace, lisible, documenté et testé sauf quand il s'agit d'affichages, de saisies ou de tirages aléatoires ;\n",
    " - travailler en groupe sur un projet : cette SAE est à faire en **binôme**. Vous devez néanmoins comprendre et connaître la totalité de ce qui est produit par le binôme.\n",
    "\n",
    "\n",
    "**Calendrier**\n",
    "- Le projet est à rendre au plus tard le vendredi **10 novembre** 2023. Les modalités de rendu vous seront précisées par votre enseignant.\n",
    "- Un contrôle de 2h en lien avec le contenu de cette SAE aura lieu le vendredi **10 novembre** 2023.\n",
    "\n",
    "**Evaluation**\n",
    "- Le projet comptera pour 40% de la note de SAE 1.01. <BR>\n",
    "Il sera particulièrement tenu compte de la qualité du code, des **commentaires** et **docstrings**, des fonctions de **tests unitaires** pour les fonctions renvoyant des résultats. <BR><BR>\n",
    "    \n",
    "- Le contrôle compte pour 60% de la note finale."
   ]
  },
  {
   "cell_type": "markdown",
   "metadata": {
    "deletable": false,
    "editable": false
   },
   "source": [
    "## <center> Sujet </center>\n",
    "\n",
    "Le Père Noël se fait vieux, il a besoin d'aider pour organiser sa distribution de cadeaux. Il vous prend à l'essai...\n",
    "\n",
    "L'objectif est de chercher une tournée des villes minimisant la distance parcourue par les rennes du Père Noël."
   ]
  },
  {
   "cell_type": "markdown",
   "metadata": {
    "deletable": false,
    "editable": false
   },
   "source": [
    "On décide de stocker les données sur les villes à visiter dans un tableau `villes` de chaînes de caractères et de flottants contenant successivement une ville (sous forme d'une chaîne de caractères), sa longitude et sa latitude (des flottants) en dégrés décimaux (DD) de sorte que `villes[3*i]` a pour longitude  `villes[3*i+1]` et pour latitude `villes[3*i+2]`.\n",
    "\n",
    "On suppose que chaque ville n'est présente qu'une seule fois dans le tableau.\n",
    "\n",
    "**Exemple** : "
   ]
  },
  {
   "cell_type": "code",
   "execution_count": 1,
   "metadata": {
    "deletable": false,
    "editable": false,
    "scrolled": true
   },
   "outputs": [],
   "source": [
    "villes = [\"Paris\",2.33,48.86, \"Lyon\",4.85,45.75, \n",
    "          \"Marseille\", 5.40,43.30, \"Lille\",3.06,50.63, \n",
    "          \"Strasbourg\",7.75,48.57, \"Rennes\",-1.66,48.11, \n",
    "          \"Clermont-Ferrand\",3.08,45.77, \"Bordeaux\", -0.57, 44.83]"
   ]
  },
  {
   "cell_type": "markdown",
   "metadata": {
    "deletable": false,
    "editable": false
   },
   "source": [
    "Ainsi\n",
    "- Paris a une longitude de 2,33 DD et une latitude de 48,86 DD.\n",
    "- Rennes a une longitude de -1,66 DD et une latitude de 48,11 DD."
   ]
  },
  {
   "cell_type": "markdown",
   "metadata": {
    "deletable": false,
    "editable": false
   },
   "source": [
    "#### Question préliminaire : Représentation des villes par un tableau\n",
    "\n",
    "- Ajouter dans le tableau précédent Toulouse dont la longitude est 1,43 DD et la latitude est 43,60 DD, ainsi que Grenoble dont la longitude est 5,72 DD et la latitude est 45,18 DD."
   ]
  },
  {
   "cell_type": "code",
   "execution_count": 2,
   "metadata": {
    "scrolled": true
   },
   "outputs": [
    {
     "name": "stdout",
     "output_type": "stream",
     "text": [
      "['Paris', 2.33, 48.86, 'Lyon', 4.85, 45.75, 'Marseille', 5.4, 43.3, 'Lille', 3.06, 50.63, 'Strasbourg', 7.75, 48.57, 'Rennes', -1.66, 48.11, 'Clermont-Ferrand', 3.08, 45.77, 'Bordeaux', -0.57, 44.83, 'Toulouse', 1.43, 43.6, 'Grenoble', 5.72, 45.18]\n"
     ]
    }
   ],
   "source": [
    "#-------------------------#\n",
    "#    Écrire le code ici   #\n",
    "#-------------------------#\n",
    "\n",
    "villes.extend([\"Toulouse\", 1.43, 43.60])\n",
    "\n",
    "villes.extend([\"Grenoble\", 5.72, 45.18])\n",
    "\n",
    "print(villes)"
   ]
  },
  {
   "cell_type": "markdown",
   "metadata": {
    "deletable": false,
    "editable": false
   },
   "source": [
    "#### Question 1 : Nombre de villes à visiter\n",
    "\n",
    "- Étant donné un tableau `villes`, écrire une fonction `nb_villes(villes)` qui retourne le nombre de villes à visiter contenues dans le tableau `villes`. \n",
    "- Ecrire une fonction de tests unitaires permettant de vérifier cette fonction. "
   ]
  },
  {
   "cell_type": "code",
   "execution_count": 3,
   "metadata": {
    "scrolled": true
   },
   "outputs": [],
   "source": [
    "#-------------------------#\n",
    "#    Écrire le code ici   #\n",
    "#-------------------------#\n",
    "\n",
    "def nb_villes(villes):\n",
    "    \"\"\"\n",
    "     Renvoie le nombre de villes contenues dans une liste avec leurs coordonnées.\n",
    "\n",
    "    Paramètres:\n",
    "    - villes (list): Liste de villes avec leurs coordonnées.\n",
    "\n",
    "    Renvoie:\n",
    "    Le nombre de villes dans la liste.\n",
    "    \"\"\"\n",
    "    nb = 0  # Initialisation du compteur\n",
    "    for i in range(0, len(villes), 3): # Sachant que chaque ville est représentée par 3 cases consécutives, Alors on parcourt la liste en sautant de 3 en 3. \n",
    "        nb += 1 \n",
    "    return nb\n"
   ]
  },
  {
   "cell_type": "code",
   "execution_count": 4,
   "metadata": {},
   "outputs": [
    {
     "name": "stdout",
     "output_type": "stream",
     "text": [
      "test de la fonction nb_villes : ok\n"
     ]
    }
   ],
   "source": [
    "def test_nb_villes():\n",
    "    assert nb_villes(villes) == 10\n",
    "    assert nb_villes([\"Paris\",2.33,48.86, \"Lyon\",4.85,45.75]) == 2\n",
    "    assert nb_villes([]) == 0\n",
    "    print(\"test de la fonction nb_villes : ok\")\n",
    "    \n",
    "test_nb_villes()"
   ]
  },
  {
   "cell_type": "markdown",
   "metadata": {
    "deletable": false,
    "editable": false
   },
   "source": [
    "#### Question 2 : Tableaux des noms de villes à visiter\n",
    "\n",
    "- Étant donné un tableau `villes`, écrire une fonction `noms_villes(villes)` qui retourne le tableau des noms des villes à visiter contenues dans le tableau `villes`. \n",
    "- Ecrire une fonction de tests unitaires permettant de vérifier cette fonction. "
   ]
  },
  {
   "cell_type": "code",
   "execution_count": 5,
   "metadata": {
    "scrolled": true
   },
   "outputs": [],
   "source": [
    "#-------------------------#\n",
    "#    Écrire le code ici   #\n",
    "#-------------------------#\n",
    "\n",
    "def noms_villes(villes):\n",
    "    \"\"\"\n",
    "    Renvoie un tableau avec uniquement les noms des villes.\n",
    "\n",
    "    Paramètre:\n",
    "    - villes (list): Tableau de villes avec leurs coordonnées.\n",
    "\n",
    "    Renvoie:\n",
    "    Un tableau contenant uniquement le nom des villes.\n",
    "    \"\"\"\n",
    "    tab_villes = [] # Initialisation du tableau qu'on va renvoyer\n",
    "    for i in range(0, len(villes), 3): \n",
    "        tab_villes.append(villes[i])\n",
    "    return tab_villes\n"
   ]
  },
  {
   "cell_type": "code",
   "execution_count": 6,
   "metadata": {},
   "outputs": [
    {
     "name": "stdout",
     "output_type": "stream",
     "text": [
      "test de la fonction noms_villes : ok\n"
     ]
    }
   ],
   "source": [
    "def test_noms_villes():\n",
    "    assert noms_villes(villes) == ['Paris', 'Lyon','Marseille','Lille','Strasbourg','Rennes','Clermont-Ferrand','Bordeaux','Toulouse','Grenoble']\n",
    "    assert noms_villes([\"Paris\",2.33,48.86, \"Lyon\",4.85,45.75]) == [\"Paris\", \"Lyon\"]\n",
    "    assert noms_villes([]) == []\n",
    "    print(\"test de la fonction noms_villes : ok\")\n",
    "\n",
    "test_noms_villes()"
   ]
  },
  {
   "cell_type": "markdown",
   "metadata": {
    "deletable": false,
    "editable": false
   },
   "source": [
    "#### Question 3 : Distance entre deux villes repérées par leurs longitude et latitude\n",
    "\n",
    "Pour calculer la distance $d$ entre deux villes $V_1$ (de longitude $long1$ et de latitude $lat1$) et $V_2$ (de longitude $long2$ et de latitude $lat2$) à partir de leurs longitude et latitude, on peut utiliser la formule suivante :\n",
    "\n",
    "$d=R*arccos(sin(lat1)*sin(lat2)+cos(lat1)*cos(lat2)*cos(long2-long1))$\n",
    "\n",
    "où le rayon de la terre $R$ vaut 6370.7km et les latitudes et longitudes sont exprimées en radians (en non en degrés décimaux).\n",
    "Cela correspond à la méthode de calcul avec la loi des sinus décrite [ici](http://villemin.gerard.free.fr/aGeograp/Distance.htm) \n",
    "\n",
    "Par exemple, Paris et Marseille sont distantes de 661,86 km.\n",
    "\n",
    "- Ecrire une fonction `distance(long1,lat1,long2,lat2)` qui calcule et retourne la distance entre deux villes $V_1$ (de longitude `long1` et `lat1`) et $V_2$ (de `long2`et `lat2`).\n",
    "\n",
    "**NB** Les fonctions `sin`, `cos` et le nombre `pi` sont définis dans la bibliothèque `math`. La fonction `arcos` est définie dans la bibliothèque `numpy`.\n",
    "\n",
    "Pour **convertir des degrés en radians**, il faut multiplier par $\\pi/180$.\n",
    "\n",
    "\n",
    "- Ecrire une fonction de tests unitaire permettant de vérifier cette fonction."
   ]
  },
  {
   "cell_type": "code",
   "execution_count": 7,
   "metadata": {
    "scrolled": true
   },
   "outputs": [],
   "source": [
    "#-------------------------#\n",
    "#    Écrire le code ici   #\n",
    "#-------------------------#\n",
    "import math\n",
    "import numpy\n",
    "\n",
    "def distance(long1, lat1, long2, lat2):\n",
    "    \"\"\"\n",
    "    Calcule la distance en kilomètres entre deux points géographiques.\n",
    "\n",
    "    Paramètres:\n",
    "    - long1 (float): Longitude du premier point.\n",
    "    - lat1 (float): Latitude du premier point.\n",
    "    - long2 (float): Longitude du deuxième point.\n",
    "    - lat2 (float): Latitude du deuxième point.\n",
    "\n",
    "    Renvoie:\n",
    "    La distance en kilomètres entre les deux points, arrondie à 2 chiffres après la virgule.\n",
    "    \"\"\"\n",
    "    # Rayon de la Terre en kilomètres\n",
    "    R = 6370.7\n",
    "\n",
    "    # Conversion des longitudes et latitudes en radians\n",
    "    long1_rad = long1 * (math.pi/180)\n",
    "    lat1_rad = lat1 * (math.pi/180)\n",
    "    long2_rad = long2 * (math.pi/180)\n",
    "    lat2_rad = lat2 * (math.pi/180)\n",
    "\n",
    "    # Calcul de la distance en utilisant la formule\n",
    "    d = R * numpy.arccos(math.sin(lat1_rad) * math.sin(lat2_rad) + math.cos(lat1_rad) * math.cos(lat2_rad) * math.cos(long2_rad - long1_rad))\n",
    "    \n",
    "    return round(d, 2) # Arrondi à 2 chiffres après la virgule"
   ]
  },
  {
   "cell_type": "code",
   "execution_count": 8,
   "metadata": {},
   "outputs": [
    {
     "name": "stdout",
     "output_type": "stream",
     "text": [
      "test de la fonction distance : ok\n"
     ]
    }
   ],
   "source": [
    "def test_distance():\n",
    "    assert math.isclose(distance(2.33,48.86,5.40,43.30), 661.86) # Distance Paris - Marseille \n",
    "    assert math.isclose(distance(1.43, 43.60,5.72, 45.18), 383.4) # Distance Toulouse - Grenoble\n",
    "    assert distance(2.33,48.86,2.33,48.86) == 0.0\n",
    "    print(\"test de la fonction distance : ok\")\n",
    "    \n",
    "test_distance()"
   ]
  },
  {
   "cell_type": "markdown",
   "metadata": {
    "deletable": false,
    "editable": false
   },
   "source": [
    "#### Question 4 : Coordonnées d'une ville dans le tableau `villes`\n",
    "\n",
    "a) Ecrire une fonction `indexCity(ville, villes)` qui retourne la position (l'indice) de la `ville` passée en paramètre dans le tableau `villes`. Elle retournera `-1` si la ville passée en paramètre n'est pas dans le tableau. Cette information pourra être utilisée dans la suite pour trouver la longitude et la latitude d'une ville donnée par son nom.\n",
    "\n",
    "Par exemple, \n",
    "- l'instruction `indexCity(\"Paris\", villes)` retournera `0`,\n",
    "- l'instruction `indexCity(\"Clermont-Ferrand\",villes)` retournera  `18`,\n",
    "- et l'instruction `indexCity(\"Villetaneuse\",villes)` retournera  `-1`.\n",
    "\n",
    "b) Ecrire une fonction de tests unitaire permettant de vérifier cette fonction."
   ]
  },
  {
   "cell_type": "code",
   "execution_count": 9,
   "metadata": {
    "scrolled": true
   },
   "outputs": [],
   "source": [
    "#-------------------------#\n",
    "#    Écrire le code ici   #\n",
    "#-------------------------#\n",
    "\n",
    "def indexCity(ville, villes):\n",
    "    \"\"\"\n",
    "    Recherche l'indice d'une ville dans une liste de villes.\n",
    "\n",
    "    Paramètres:\n",
    "    - ville (str): Nom de la ville à rechercher.\n",
    "    - villes (list): Liste de villes.\n",
    "\n",
    "    Renvoie:\n",
    "    L'indice de la ville si elle est présente dans la liste, sinon -1.\n",
    "    \"\"\"\n",
    "\n",
    "     # Vérifie si la ville est présente dans la liste des villes\n",
    "    if ville not in villes:\n",
    "        return -1\n",
    "\n",
    "    for i in range(len(villes)):\n",
    "        if villes[i] == ville:\n",
    "            return i"
   ]
  },
  {
   "cell_type": "code",
   "execution_count": 10,
   "metadata": {},
   "outputs": [
    {
     "name": "stdout",
     "output_type": "stream",
     "text": [
      "test de la focnction indexCity : ok\n"
     ]
    }
   ],
   "source": [
    "def test_indexCity():\n",
    "    assert indexCity(\"Paris\", villes) == 0\n",
    "    assert indexCity(\"Clermont-Ferrand\", villes) == 18\n",
    "    assert indexCity(\"Villetaneuse\", villes) == -1\n",
    "    print(\"test de la focnction indexCity : ok\")\n",
    "    \n",
    "test_indexCity()"
   ]
  },
  {
   "cell_type": "markdown",
   "metadata": {
    "deletable": false,
    "editable": false
   },
   "source": [
    "#### Question 5 : Distance entre deux villes données par leurs noms\n",
    "\n",
    "- Ecrire une fonction `distance_noms(nom1,nom2, villes)` qui calcule et retourne la distance entre deux villes $V_1$ et $V_2$ appelées `nom1` et `nom2` dans le tableau `villes`. La fonction retournera `-1` si une de ces villes n'est pas dans le tableau.\n",
    "- Ecrire une fonction de tests unitaires permettant de vérifier cette fonction."
   ]
  },
  {
   "cell_type": "code",
   "execution_count": 11,
   "metadata": {
    "scrolled": true
   },
   "outputs": [],
   "source": [
    "#-------------------------#\n",
    "#    Écrire le code ici   #\n",
    "#-------------------------#\n",
    "\n",
    "def distance_noms(nom1,nom2, Villes):\n",
    "    \"\"\"\n",
    "    Calcule la distance entre deux villes spécifiées par leur nom.\n",
    "\n",
    "    Paramètres:\n",
    "    - nom1 (str): Nom de la première ville.\n",
    "    - nom2 (str): Nom de la deuxième ville.\n",
    "    - Villes (list): Liste de villes avec leurs coordonnées.\n",
    "\n",
    "    Renvoie:\n",
    "    La distance entre les deux villes si elles sont dans la liste, sinon -1.\n",
    "    \"\"\"\n",
    "    # Vérifie si les deux villes sont présentes dans la liste des villes\n",
    "    if (indexCity(nom1, Villes) == -1) or (indexCity(nom2, Villes) == -1):\n",
    "        return -1\n",
    "    \n",
    "    for i in range(len(Villes)):\n",
    "        if nom1 == Villes[i]:\n",
    "            longV1, latV1 = float(Villes[i+1]), float(Villes[i+2])\n",
    "        if nom2 == Villes[i]:\n",
    "            longV2, latV2 = float(Villes[i+1]), float(Villes[i+2])\n",
    "        \n",
    "    \n",
    "    return distance(longV1,latV1,longV2,latV2)\n"
   ]
  },
  {
   "cell_type": "code",
   "execution_count": 12,
   "metadata": {},
   "outputs": [
    {
     "name": "stdout",
     "output_type": "stream",
     "text": [
      "test de la fonction distance_noms : ok\n"
     ]
    }
   ],
   "source": [
    "def test_distance_noms():\n",
    "    assert math.isclose(distance_noms(\"Paris\",\"Marseille\",villes), 661.86) # Distance Paris - Marseille\n",
    "    assert math.isclose(distance_noms(\"Toulouse\", \"Grenoble\",villes), 383.4)\n",
    "    assert distance_noms(\"Paris\", \"Tokyo\", villes) == -1\n",
    "    print(\"test de la fonction distance_noms : ok\")\n",
    "\n",
    "test_distance_noms()"
   ]
  },
  {
   "cell_type": "markdown",
   "metadata": {
    "deletable": false,
    "editable": false
   },
   "source": [
    "#### Question 6 :  Lecture des villes d'une tournée à partir d'un fichier\n",
    "On suppose que les données sur les villes où doit se rendre le Père Noël réseau sont stockées dans un fichier CSV de la manière suivante :\n",
    "```\n",
    "ville1;longitude1;latitude1\n",
    "ville2;longitude2;latitude2\n",
    "ville3;longitude3;latitude3\n",
    "...\n",
    "```\n",
    "Autrement dit, chaque ligne du fichier contient le nom d'une ville, sa longitude et sa latitude en degrés décimaux, ces données étant séparées par des `';'`. Ces villes sont celles que le Père Noël doit desservir\n",
    "\n",
    "**NB** : Six fichiers CSV de ce type sont fournis dans le répertoire `files/`, il s'agit des fichiers `africa.csv`, `asia.csv`,`europe.csv`, `north-america`, `oceania.csv` and `south-america.csv`. \n",
    "Il est recommandé d'en fabriquer d'autres. \n",
    "\n",
    "- Ecrire une fonction `lecture_villes(path)` prenant en paramètre un chemin vers un tel fichier CSV et retournant un tableau contenant les informations sur les villes à visiter."
   ]
  },
  {
   "cell_type": "code",
   "execution_count": 13,
   "metadata": {
    "scrolled": true
   },
   "outputs": [],
   "source": [
    "#-------------------------#\n",
    "#    Écrire le code ici   #\n",
    "#-------------------------#\n",
    "\n",
    "\n",
    "def lecture_villes(path, sous_liste = True):\n",
    "    \"\"\"\n",
    "    Lit les données d'un fichier CSV spécifié par le chemin et retourne une liste.\n",
    "    \n",
    "    Paramètres:\n",
    "    - path (str): Chemin vers le fichier CSV.\n",
    "    - sous_liste (bool): Option pour retourner les données sous forme de liste de listes (par défaut),\n",
    "                         ou sous forme d'une liste unique si False.\n",
    "\n",
    "    Renvoie:\n",
    "    Une liste de la forme [ville, longitude, latitude]\n",
    "    \"\"\"\n",
    "    with open(path, \"r\", encoding=\"utf-8\") as f:\n",
    "        donnees = f.readlines()\n",
    "\n",
    "    li = []\n",
    "    \n",
    "    for i in range(len(donnees)):\n",
    "        li.append(donnees[i].strip()) # On supprime les éléments non désirables\n",
    "        li[i] = li[i].split(\";\") # On sépare \n",
    "\n",
    "    # On convertit les valeurs de longitude et latitude en floattants\n",
    "        li[i][1] = float(li[i][1])\n",
    "        li[i][2] = float(li[i][2])\n",
    "\n",
    "    while not sous_liste:\n",
    "        li_une_liste = []\n",
    "        for v in li:\n",
    "            li_une_liste.extend(v)\n",
    "            \n",
    "        return li_une_liste\n",
    "        \n",
    "    return li\n"
   ]
  },
  {
   "cell_type": "code",
   "execution_count": 14,
   "metadata": {},
   "outputs": [
    {
     "name": "stdout",
     "output_type": "stream",
     "text": [
      "[['Algiers', 3.04, 36.75], ['Luanda', 13.23, -8.84], ['Porto-Novo', 2.6, 6.5], ['Gaborone', 25.91, -24.65], ['Ouagadougou', -1.53, 12.37], ['Bujumbura', 29.36, -3.38], ['Yaoundé', 11.52, 3.87], ['Praia', -23.51, 14.93], ['Bangui', 18.55, 4.36], [\"N'Djamena\", 15.04, 12.11], ['Moroni', 43.26, -11.7], ['Kinshasa', 15.31, -4.32], ['Djibouti', 43.15, 11.59], ['Cairo', 31.25, 30.06], ['Malabo', 8.78, 3.75], ['Asmara', 38.93, 15.33], ['Addis Ababa', 38.75, 9.02], ['Libreville', 9.45, 0.39], ['Banjul', -16.58, 13.45], ['Accra', -0.2, 5.56], ['Conakry', -13.68, 9.54], ['Bissau', -15.6, 11.86], ['Yamoussoukro', -5.28, 6.82], ['Nairobi', 36.82, -1.28], ['Maseru', 27.48, -29.32], ['Monrovia', -10.8, 6.3], ['Tripoli', 13.19, 32.88], ['Antananarivo', 47.54, -18.91], ['Lilongwe', 33.79, -13.97], ['Bamako', -8.0, 12.65], ['Nouakchott', -15.98, 18.09], ['Port Louis', 57.5, -20.16], ['Mamoutzou', 45.23, -12.78], ['Rabat', -6.83, 34.01], ['Maputo', 32.58, -25.97], ['Windhoek', 17.08, -22.56], ['Niamey', 2.11, 13.51], ['Abuja', 7.48, 9.07], ['Brazzaville', 15.28, -4.27], ['Saint-Denis', 55.45, -20.88], ['Kigali', 30.06, -1.95], ['Jamestown', -5.72, -15.94], ['São Tomé', 6.73, 0.34], ['Dakar', -17.44, 14.69], ['Victoria', 55.45, -4.62], ['Freetown', -13.23, 8.48], ['Mogadishu', 45.34, 2.04], ['Pretoria', 28.19, -25.74], ['Khartoum', 32.53, 15.55], ['Mbabane', 31.13, -26.32], ['Dodoma', 35.74, -6.17], ['Lomé', 1.21, 6.14], ['Tunis', 10.17, 36.82], ['Kampala', 32.58, 0.32], ['El Aaiún', -13.2, 27.16], ['Lusaka', 28.29, -15.41], ['Harare', 31.05, -17.83]]\n"
     ]
    }
   ],
   "source": [
    "print(lecture_villes(\"files/africa.csv\"))"
   ]
  },
  {
   "cell_type": "code",
   "execution_count": 15,
   "metadata": {},
   "outputs": [
    {
     "name": "stdout",
     "output_type": "stream",
     "text": [
      "['Algiers', 3.04, 36.75, 'Luanda', 13.23, -8.84, 'Porto-Novo', 2.6, 6.5, 'Gaborone', 25.91, -24.65, 'Ouagadougou', -1.53, 12.37, 'Bujumbura', 29.36, -3.38, 'Yaoundé', 11.52, 3.87, 'Praia', -23.51, 14.93, 'Bangui', 18.55, 4.36, \"N'Djamena\", 15.04, 12.11, 'Moroni', 43.26, -11.7, 'Kinshasa', 15.31, -4.32, 'Djibouti', 43.15, 11.59, 'Cairo', 31.25, 30.06, 'Malabo', 8.78, 3.75, 'Asmara', 38.93, 15.33, 'Addis Ababa', 38.75, 9.02, 'Libreville', 9.45, 0.39, 'Banjul', -16.58, 13.45, 'Accra', -0.2, 5.56, 'Conakry', -13.68, 9.54, 'Bissau', -15.6, 11.86, 'Yamoussoukro', -5.28, 6.82, 'Nairobi', 36.82, -1.28, 'Maseru', 27.48, -29.32, 'Monrovia', -10.8, 6.3, 'Tripoli', 13.19, 32.88, 'Antananarivo', 47.54, -18.91, 'Lilongwe', 33.79, -13.97, 'Bamako', -8.0, 12.65, 'Nouakchott', -15.98, 18.09, 'Port Louis', 57.5, -20.16, 'Mamoutzou', 45.23, -12.78, 'Rabat', -6.83, 34.01, 'Maputo', 32.58, -25.97, 'Windhoek', 17.08, -22.56, 'Niamey', 2.11, 13.51, 'Abuja', 7.48, 9.07, 'Brazzaville', 15.28, -4.27, 'Saint-Denis', 55.45, -20.88, 'Kigali', 30.06, -1.95, 'Jamestown', -5.72, -15.94, 'São Tomé', 6.73, 0.34, 'Dakar', -17.44, 14.69, 'Victoria', 55.45, -4.62, 'Freetown', -13.23, 8.48, 'Mogadishu', 45.34, 2.04, 'Pretoria', 28.19, -25.74, 'Khartoum', 32.53, 15.55, 'Mbabane', 31.13, -26.32, 'Dodoma', 35.74, -6.17, 'Lomé', 1.21, 6.14, 'Tunis', 10.17, 36.82, 'Kampala', 32.58, 0.32, 'El Aaiún', -13.2, 27.16, 'Lusaka', 28.29, -15.41, 'Harare', 31.05, -17.83]\n"
     ]
    }
   ],
   "source": [
    "print(lecture_villes(\"files/africa.csv\", sous_liste = False))"
   ]
  },
  {
   "cell_type": "markdown",
   "metadata": {
    "deletable": false,
    "editable": false
   },
   "source": [
    "#### Question 7 : Longueur d'une tournée\n",
    "\n",
    "On considère que le Père Noël peut partir de n'importe laquelle des villes qu'il doit visiter et qu'il doit revenir à son point de départ à la fin de la tournée. Lors de sa tournée, il doit visiter chacune des villes dont les informations sont contenues dans le tableau `villes` une fois et une seule. \n",
    "\n",
    "On représente une tournée possible sous la forme d'un tableau `tournee` contenant le nom des villes dans l'ordre où le Père Noël les visitera sans oublier de revenir à la ville dont il est parti. \n",
    "\n",
    "L'objectif est de calculer la longueur d'une tournée. \n",
    "\n",
    "- Ecrire une fonction `long_tour(villes, tournee)` qui prend en paramètres le tableau `villes` contenant les informations sur les villes à visiter et le tableau `tournee` indiquant l'ordre dans lequel les villes sont visitées. La fonction retourne la longueur de la tournée correspondante.\n",
    "\n",
    "- Ecrire une fonction de tests unitaires permettant de vérifier cette fonction."
   ]
  },
  {
   "cell_type": "code",
   "execution_count": 16,
   "metadata": {},
   "outputs": [],
   "source": [
    "#-------------------------#\n",
    "#    Écrire le code ici   #\n",
    "#-------------------------#\n",
    "\n",
    "\n",
    "def long_tour(villes, tournee):\n",
    "    \"\"\"\n",
    "    Calcule la distance totale d'une tournée spécifiée en paramètres.\n",
    "\n",
    "    Paramètres:\n",
    "    - villes (list): informations sur les villes à visiter avec leurs coordonnées.\n",
    "    - tournee (list): tableau indiquant l'ordre dans lequel les villes doivent être visitées.\n",
    "\n",
    "    Renvoie:\n",
    "    La distance totale de la tournée spécifiée.\n",
    "    \"\"\"\n",
    "\n",
    "    \n",
    "    if tournee == []:\n",
    "        return 0\n",
    "        \n",
    "    total = 0\n",
    "    ville_depart = tournee[0]\n",
    "    ville_actuel = tournee[0]\n",
    "\n",
    "        \n",
    "    for i in range(1,len(tournee)):\n",
    "        # On calcule la distance entre la ville actuelle et la prochaine ville de la tournee \n",
    "        total += distance_noms(ville_actuel, tournee[i], villes)\n",
    "        ville_actuel = tournee[i]\n",
    "\n",
    "    # On rajoute la distance entre la dernière ville visitée et la ville de départ\n",
    "    total += distance_noms(ville_actuel,ville_depart,villes) \n",
    "    \n",
    "    return round(total,2)"
   ]
  },
  {
   "cell_type": "code",
   "execution_count": 17,
   "metadata": {},
   "outputs": [
    {
     "name": "stdout",
     "output_type": "stream",
     "text": [
      "test de la fonction long_tour : ok\n"
     ]
    }
   ],
   "source": [
    "def test_long_tour():\n",
    "    assert math.isclose(long_tour(villes,[\"Paris\",\"Marseille\"]),1323.72) # Aller Retour Paris - Marseille\n",
    "    assert long_tour(villes, [\"Paris\"]) == 0\n",
    "    assert long_tour(villes, []) == 0\n",
    "    print(\"test de la fonction long_tour : ok\")\n",
    "\n",
    "test_long_tour()"
   ]
  },
  {
   "cell_type": "code",
   "execution_count": 18,
   "metadata": {},
   "outputs": [],
   "source": [
    "import random\n",
    "\n",
    "def tournee_alea(tab_csv, n):\n",
    "    \"\"\"\n",
    "    Génère une tournée aléatoire avec n villes à partir d'un tableau renvoyé par la fonction lecture_ville.\n",
    "\n",
    "    Paramètres:\n",
    "    - tab_csv (list): Un tableau contenant les informations sur les villes avec leurs coordonnées.\n",
    "    - n (int): Le nombre de villes à inclure dans la tournée.\n",
    "\n",
    "    Renvoie:\n",
    "    Un tableau d'une tournée aléatoire avec n villes.\n",
    "    \"\"\"\n",
    "    \n",
    "    # Sélectionne 10 indices aléatoires\n",
    "    indices_aleatoires = random.sample(range(0, len(ville) // 3), n)\n",
    "\n",
    "    # ajout des villes avec leurs coordonnees dans un tableau\n",
    "    villes_aleatoires = []\n",
    "    \n",
    "    for i in indices_aleatoires:\n",
    "        nom_ville = ville[i * 3]\n",
    "        longitude = ville[i * 3 + 1]\n",
    "        latitude = ville[i * 3 + 2]\n",
    "        \n",
    "        villes_aleatoires.extend([nom_ville, longitude, latitude])\n",
    "    \n",
    "    tournee = noms_villes(villes_aleatoires)\n",
    "    \n",
    "    return tournee"
   ]
  },
  {
   "cell_type": "code",
   "execution_count": 19,
   "metadata": {
    "scrolled": true
   },
   "outputs": [
    {
     "name": "stdout",
     "output_type": "stream",
     "text": [
      "['Belgrade', 'Rome', 'Oslo', 'Brussels', 'Monaco', 'Riga', 'Podgorica', 'Pristina', 'Moscow', 'Prague'] : 12606.96 km\n"
     ]
    }
   ],
   "source": [
    "ville = lecture_villes(\"files/europe.csv\", sous_liste = False)\n",
    "tournee = tournee_alea(ville, 10) \n",
    "\n",
    "print(tournee, \":\", long_tour(ville, tournee),\"km\")"
   ]
  },
  {
   "cell_type": "markdown",
   "metadata": {
    "deletable": false,
    "editable": false
   },
   "source": [
    "#### Question 8 : Recherche d'une plus courte tournée \n",
    "\n",
    "Pour améliorer la longueur de la tournée, on peut essayer de changer l'ordre des villes aléatoirement. Pour une tournée donnée par un tableau `tournee` cela peut se faire avec la fonction `shuffle` de la bibliothèque `random` qui mélange aléatoirement les villes qui sont dans le tableau `tournee`, grâce à l'instruction  `shuffle(tournee)`, et ne retourne rien.\n",
    "\n",
    "- Utiliser cette fonction pour écrire un programme qui cherche une tournée plus courte à proposer au Père Noël. \n",
    "- Comment la solution s'améliore-t-elle en fonction de nombre de tentatives de mélange ? "
   ]
  },
  {
   "cell_type": "code",
   "execution_count": 20,
   "metadata": {},
   "outputs": [
    {
     "name": "stdout",
     "output_type": "stream",
     "text": [
      "Distance de la tournée avant recherche d'une plus courte distance : 10700.67 km\n",
      "Meilleure tournée trouvée après 1000 tentatives :\n",
      "['Stockholm', 'Douglas', 'Monaco', 'Vatican', 'Ljubljana', 'Budapest', 'Minsk', 'Belgrade', 'Skopje', 'Chişinău', 'Stockholm'] 8991.55 km\n"
     ]
    }
   ],
   "source": [
    "ville = lecture_villes(\"files/europe.csv\", sous_liste = False)\n",
    "tournee = tournee_alea(ville, 10) \n",
    "\n",
    "\n",
    "long_actuelle = long_tour(ville, tournee)\n",
    "print(f\"Distance de la tournée avant recherche d'une plus courte distance : {long_actuelle} km\")\n",
    "\n",
    "tournee_courte = tournee\n",
    "nb_tentatives = 1000\n",
    "\n",
    "for i in range(nb_tentatives):\n",
    "    random.shuffle(tournee_courte) # Mélange aléatoire de l'ordre des villes\n",
    "    nvl_long = long_tour(ville,tournee_courte)\n",
    "    \n",
    "    if nvl_long < long_actuelle:\n",
    "        long_actuelle = nvl_long\n",
    "        tournee = tournee_courte.copy()\n",
    "        \n",
    "        # Ajout de la ville de départ à la fin de la tournee pour revenir au point de départ.\n",
    "        tournee.append(tournee[0]) \n",
    "\n",
    "print(f\"Meilleure tournée trouvée après {nb_tentatives} tentatives :\")\n",
    "print(tournee, long_actuelle, \"km\")"
   ]
  },
  {
   "cell_type": "code",
   "execution_count": 21,
   "metadata": {},
   "outputs": [
    {
     "data": {
      "text/plain": [
       "\"\\nPlus le nombre de tentatives est élevée, plus la distance de la tournee s'améliore\\n\""
      ]
     },
     "execution_count": 21,
     "metadata": {},
     "output_type": "execute_result"
    }
   ],
   "source": [
    " \"\"\"\n",
    " Plus le nombre de tentatives est élevé, plus il y a de chances de trouver une permutation qui minimise la longueur de la tournée.\n",
    " \"\"\""
   ]
  },
  {
   "cell_type": "markdown",
   "metadata": {},
   "source": [
    "#### Question Bonus (facultative) : Visualisation de la tournée proposée au Père Noël \n",
    "\n",
    "Pour faciliter le travail du Père Noël, vous décidez de lui fournir une carte où est représentée la tournée sélectionnée. \n",
    "\n",
    "Pour cela, on peut (mais ce ne n'est qu'une suggestion) utiliser la bibliothèque [`folium`](https://python-visualization.github.io/folium/latest/getting_started.html). Vous pouvez également utiliser tout autre bibliothèque de votre choix.\n",
    "\n",
    "- Ecrire un programme permettant la visualisation de la tournée proposée au Père Noël"
   ]
  },
  {
   "cell_type": "code",
   "execution_count": 23,
   "metadata": {
    "scrolled": true
   },
   "outputs": [
    {
     "name": "stdout",
     "output_type": "stream",
     "text": [
      "['Stockholm', 'Douglas', 'Monaco', 'Vatican', 'Ljubljana', 'Budapest', 'Minsk', 'Belgrade', 'Skopje', 'Chişinău', 'Stockholm']\n"
     ]
    }
   ],
   "source": [
    "import folium\n",
    "import webbrowser\n",
    "\n",
    "def visualize_tour(tour_data, lst_villes):\n",
    "    \"\"\"\n",
    "    Visualise une tournée sélectionnée sur une carte, centrée autour de la ville de départ.\n",
    "    \n",
    "    Paramètres:\n",
    "    - tour_data (list): Une liste représentant la tournée sélectionnée.\n",
    "    - lst_villes (list): Une liste contenant les informations sur les villes avec leurs coordonnées.\n",
    "\n",
    "    Renvoie rien\n",
    "    \"\"\"\n",
    "\n",
    "    for i in range(len(lst_villes)):\n",
    "        if tour_data[0] == lst_villes[i]:\n",
    "            longitude_ville_depart = lst_villes[i+1]\n",
    "            latitude_ville_depart = lst_villes[i+2]\n",
    "    \n",
    "    # Crée une carte Folium centrée sur la première ville de la tournée\n",
    "    m = folium.Map(location=[latitude_ville_depart, longitude_ville_depart], zoom_start=10)\n",
    "\n",
    "    # Crée un dictionnaire avec comme valeurs les coordonnées des villes\n",
    "    ville_coords = {}\n",
    "    for i in range(0, len(lst_villes), 3):\n",
    "        ville_coords[lst_villes[i]] = (lst_villes[i + 2], lst_villes[i + 1])\n",
    "\n",
    "    \n",
    "    # Ajoute des marqueurs pour chaque ville de la tournée\n",
    "    for ville in tour_data:\n",
    "        lat, lon = ville_coords[ville]\n",
    "        folium.Marker([lat, lon], tooltip=ville).add_to(m)\n",
    "\n",
    "    # Trace une ligne reliant les villes dans l'ordre de la tournée\n",
    "    coords = []\n",
    "    for ville in tour_data:\n",
    "        coords.append(ville_coords[ville])\n",
    "\n",
    "    folium.PolyLine(locations=coords, color=\"blue\", weight=5).add_to(m)\n",
    "\n",
    "    \n",
    "    # Enregistre la carte\n",
    "    m.save(\"tournee_du_pere_noel.html\")\n",
    "    \n",
    "    # Ouvre la carte dans un navigateur\n",
    "    webbrowser.open(\"tournee_du_pere_noel.html\")\n",
    "\n",
    "\n",
    "print(tournee)\n",
    "visualize_tour(tournee, ville)\n"
   ]
  }
 ],
 "metadata": {
  "kernelspec": {
   "display_name": "mon_env",
   "language": "python",
   "name": "mon_env"
  },
  "language_info": {
   "codemirror_mode": {
    "name": "ipython",
    "version": 3
   },
   "file_extension": ".py",
   "mimetype": "text/x-python",
   "name": "python",
   "nbconvert_exporter": "python",
   "pygments_lexer": "ipython3",
   "version": "3.10.4"
  },
  "latex_envs": {
   "LaTeX_envs_menu_present": true,
   "autoclose": false,
   "autocomplete": true,
   "bibliofile": "biblio.bib",
   "cite_by": "apalike",
   "current_citInitial": 1,
   "eqLabelWithNumbers": true,
   "eqNumInitial": 1,
   "hotkeys": {
    "equation": "Ctrl-E",
    "itemize": "Ctrl-I"
   },
   "labels_anchors": false,
   "latex_user_defs": false,
   "report_style_numbering": false,
   "user_envs_cfg": false
  }
 },
 "nbformat": 4,
 "nbformat_minor": 4
}
