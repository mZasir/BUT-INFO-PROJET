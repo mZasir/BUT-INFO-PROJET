{
 "cells": [
  {
   "cell_type": "markdown",
   "id": "f5ce1705-5fca-44c3-b999-80b37bc35d85",
   "metadata": {},
   "source": [
    "from santa_claus import*"
   ]
  },
  {
   "cell_type": "markdown",
   "id": "484831dc-77cb-4bb7-bddb-19c218565b21",
   "metadata": {},
   "source": [
    "Question 4 :"
   ]
  },
  {
   "cell_type": "markdown",
   "id": "96f358b1-b37f-46f7-98a8-408365b145f6",
   "metadata": {},
   "source": [
    "La fonction long_tour utilise la fonction distance_noms. Et la complexité de distance_noms est due à la fonction indexCity, qui a une complexité linéaire de O(n), où n est le nombre de villes. Donc la complexité de long_tour est O(n²), quadratique, car pour chaque ville de la tournée, elle recherche son index dans la liste des villes.\n",
    "\n",
    "Ensuite la fonction tour_length, utilise la fonction distance_cities qui elle utilise seulment des opérations élémentaires. Donc la complexité de tour_length est O(n)."
   ]
  },
  {
   "cell_type": "code",
   "execution_count": 49,
   "id": "1c06da99",
   "metadata": {
    "vscode": {
     "languageId": "plaintext"
    }
   },
   "outputs": [
    {
     "name": "stdout",
     "output_type": "stream",
     "text": [
      "temps d'execution de la fonction long_tour en 0.2432570457458496 secondes\n",
      "temps d'execution de la fonction long_tour en 0.05548572540283203 secondes\n"
     ]
    }
   ],
   "source": [
    "from time import time\n",
    "import random\n",
    "\n",
    "d = dictionary_cities([\"Paris\",2.33, 48.86, \"Lyon\", 4.85, 45.75, \"Marseille\", 5.40, 43.30, \"Lille\", 3.06, 50.63])\n",
    "villes = [\"Paris\",2.33,48.86, \"Lyon\",4.85,45.75, \n",
    "          \"Marseille\", 5.40,43.30, \"Lille\",3.06,50.63, \n",
    "          \"Strasbourg\",7.75,48.57, \"Rennes\",-1.66,48.11, \n",
    "          \"Clermont-Ferrand\",3.08,45.77, \"Bordeaux\", -0.57, 44.83]\n",
    "\n",
    "\n",
    "v = [\"Paris\", \"Lyon\", \"Marseille\", \"Lille\"]\n",
    "\n",
    "lst = []\n",
    "for _ in range(10000):\n",
    "    lst.append(random.choice(v))\n",
    "\n",
    "tic = time()\n",
    "long_tour(\"villes\", tab)\n",
    "tac = time()\n",
    "print(f\"temps d'execution de la fonction long_tour en {tac-tic} secondes\")\n",
    "\n",
    "tic = time()\n",
    "tour_length(tab,d)\n",
    "tac = time()\n",
    "print(f\"temps d'execution de la fonction long_tour en {tac-tic} secondes\")\n"
   ]
  },
  {
   "cell_type": "markdown",
   "id": "bb567b80-c203-4d28-9b7f-63788ce3c3e3",
   "metadata": {},
   "source": [
    "Question 8 :"
   ]
  },
  {
   "cell_type": "markdown",
   "id": "4db53bfb-ceb2-4481-a28a-761fe74a3fb9",
   "metadata": {},
   "source": [
    "La fonction best_tour_from_closest_city, utilise à chaque itération la fonction tour_from_closest_city qui elle a une complexité asymptotique quadratique, car  pour chaque ville, \n",
    "elle appelle la fonction closest_city qui a une complexité de O(n) car elle parcourt toutes les villes restantes pour trouver la plus proche.\n",
    "Etant donné que closest_city est appelée n fois (une fois pour chaque ville), la complexité totale de tour_from_closest_city est de O(n²).\n",
    "Donc la fonction best_tour_from_closest_city a une complexité asymptotique cubique O(n^3)."
   ]
  },
  {
   "cell_type": "markdown",
   "id": "8c76542e-db75-45d0-81ce-c5d89f74c796",
   "metadata": {},
   "source": [
    "Question 13 :"
   ]
  },
  {
   "cell_type": "code",
   "execution_count": 93,
   "id": "e79d82a8-e04d-4256-91ec-815dfcfa1a1e",
   "metadata": {},
   "outputs": [
    {
     "name": "stdout",
     "output_type": "stream",
     "text": [
      "temps d'execution de la fonction tour_from_closest_city en 0.0 secondes, 3236.9124592770436 km\n",
      "temps d'execution de la fonction best_tour_from_closest_city en 0.0004990100860595703 secondes, 2622.1490463335513 km\n",
      "temps d'execution de la fonction better_inversion en 0.0004966259002685547 secondes, 2622.1490463335513 km\n"
     ]
    }
   ],
   "source": [
    "d = dictionary_cities(villes)\n",
    "\n",
    "v = [\"Paris\", \"Lyon\", \"Marseille\", \"Lille\"]\n",
    "city = random.choice(v)\n",
    "\n",
    "# algorithme construisant un tour en ajoutant successivement la ville la plus proche (en partant d'une ville aléatoire),\n",
    "tic = time()\n",
    "tour1 = tour_from_closest_city(city, d)\n",
    "tac = time()\n",
    "print(f\"temps d'execution de la fonction tour_from_closest_city en {tac-tic} secondes, {tour_length(tour1,d)} km\")\n",
    "\n",
    "#algorithme répété en essayant chaque ville comme ville de départ\n",
    "tic = time()\n",
    "tour2,dist2 = best_tour_from_closest_city(d)\n",
    "tac = time()\n",
    "print(f\"temps d'execution de la fonction best_tour_from_closest_city en {tac-tic} secondes, {dist2} km\")\n",
    "\n",
    "\n",
    "# méthode d'amélioration par inversion\n",
    "tic = time()\n",
    "tour2 = better_inversion(tour2,d)\n",
    "tac = time()\n",
    "print(f\"temps d'execution de la fonction better_inversion en {tac-tic} secondes, {dist2} km\")\n",
    "\n"
   ]
  },
  {
   "cell_type": "markdown",
   "id": "877da871-97e9-4820-96f4-1c23b00e6445",
   "metadata": {},
   "source": [
    "Après une cinquantaine de tests, la fonction tour_from_closest_city, est la pire en terme de qualité.\n",
    "Les fonctions best_tour_from_closest_city et better_inversion sont équivalents niveau qualité du tour, mais la fonction better_inversion est meilleure terme de rapidité.\n",
    "\n",
    "Donc la fonction better_inversion est la meilleure méthode."
   ]
  }
 ],
 "metadata": {
  "kernelspec": {
   "display_name": "Python 3 (ipykernel)",
   "language": "python",
   "name": "python3"
  },
  "language_info": {
   "codemirror_mode": {
    "name": "ipython",
    "version": 3
   },
   "file_extension": ".py",
   "mimetype": "text/x-python",
   "name": "python",
   "nbconvert_exporter": "python",
   "pygments_lexer": "ipython3",
   "version": "3.8.17"
  }
 },
 "nbformat": 4,
 "nbformat_minor": 5
}
